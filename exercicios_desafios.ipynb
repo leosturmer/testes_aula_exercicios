{
 "cells": [
  {
   "cell_type": "markdown",
   "id": "acbd9f5e",
   "metadata": {},
   "source": [
    "## Desafios Práticos\n",
    "\n",
    "1. **Dashboard Interativo com Textual**\n",
    "   - Crie uma aplicação que simule um dashboard no terminal, exibindo pelo menos três widgets Static com informações diferentes (ex: tempo, status, contagem). Adicione botões para atualizar os dados exibidos e utilize CSS para diferenciar visualmente cada área do dashboard. Implemente consultas no DOM para atualizar widgets específicos.\n",
    "\n"
   ]
  },
  {
   "cell_type": "markdown",
   "id": "9788fbcc",
   "metadata": {},
   "source": []
  },
  {
   "cell_type": "markdown",
   "id": "2a10cf19",
   "metadata": {},
   "source": [
    "\n",
    "2. **Sistema de Notificações com Observer/Observable**\n",
    "   - Implemente uma aplicação onde vários widgets Static podem ser \"notificados\" por eventos disparados por botões ou outros widgets. Use o padrão Observer/Observable para que, ao pressionar um botão, todos os widgets observadores exibam uma mensagem de notificação. Estilize as notificações com CSS e utilize seletores para aplicar estilos diferentes conforme o tipo de notificação."
   ]
  },
  {
   "cell_type": "markdown",
   "id": "48b2e01a",
   "metadata": {},
   "source": []
  }
 ],
 "metadata": {
  "language_info": {
   "name": "python"
  }
 },
 "nbformat": 4,
 "nbformat_minor": 5
}
