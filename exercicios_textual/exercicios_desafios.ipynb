{
 "cells": [
  {
   "cell_type": "markdown",
   "id": "acbd9f5e",
   "metadata": {},
   "source": [
    "## Desafios Práticos\n",
    "\n",
    "1. **Dashboard Interativo com Textual**\n",
    "   - Crie uma aplicação que simule um dashboard no terminal, exibindo pelo menos três widgets Static com informações diferentes (ex: tempo, status, contagem). Adicione botões para atualizar os dados exibidos e utilize CSS para diferenciar visualmente cada área do dashboard. Implemente consultas no DOM para atualizar widgets específicos.\n",
    "\n"
   ]
  },
  {
   "cell_type": "code",
   "execution_count": null,
   "id": "bec526ae",
   "metadata": {},
   "outputs": [],
   "source": [
    "from textual.app import App, ComposeResult\n",
    "from textual.widgets import Static, Button, Input\n",
    "from textual.containers import HorizontalGroup, VerticalGroup\n",
    "\n",
    "from datetime import datetime\n",
    "\n",
    "\n",
    "class Dashboard(App):\n",
    "    CSS_PATH = 'desafio_dashboard.css'\n",
    "\n",
    "    def compose(self) -> ComposeResult:\n",
    "\n",
    "        with HorizontalGroup():\n",
    "            yield Static(f'''\n",
    "\n",
    "Este aqui é um texto! \n",
    "                         \n",
    "Clicando nos botões, coisas acontecem!\n",
    "                         \n",
    "Digite um [i]número[/] ou [i]nome[/] \n",
    "              \n",
    "''', id='st_principal')\n",
    "\n",
    "            yield Static(f'\\n\\n\\n\\nAqui irá aparecer uma mensagem mágica...\\n\\n\\n\\n', id='st_segundo')\n",
    "\n",
    "        with HorizontalGroup():\n",
    "            yield Input(placeholder='Digite aqui...', id='input')\n",
    "\n",
    "        with HorizontalGroup():\n",
    "\n",
    "            yield Button('Nome...', variant='warning', id='bt_nome')\n",
    "\n",
    "            yield Button('Número...', variant='error', id='bt_numero')\n",
    "\n",
    "            yield Button('Horário...', variant='primary', id='bt_hora')\n",
    "\n",
    "    def on_button_pressed(self, event: Button.Pressed):\n",
    "        if event.button.id == 'bt_nome':\n",
    "            nome = self.query_one('#input', Input).value\n",
    "            self.query_one('#st_segundo', Static).update(\n",
    "                f'\\n\\n\\n\\n{nome}? Tem certeza disso?\\n\\n\\n\\n')\n",
    "\n",
    "        if event.button.id == 'bt_numero':\n",
    "            try:\n",
    "                numero = int(self.query_one('#input', Input).value)\n",
    "                numero2 = numero * 35\n",
    "\n",
    "                self.query_one('#st_segundo', Static).update(\n",
    "                    f'\\n\\n\\n{numero} é seu número da sorte? \\nEu prefiro {numero2}\\n\\n\\n\\n')\n",
    "\n",
    "            except ValueError:\n",
    "                self.query_one('#st_segundo', Static).update(\n",
    "                    'Opa! Digite um número inteiro!')\n",
    "\n",
    "        if event.button.id == 'bt_hora':\n",
    "            dataehora = '%d/%m/%Y, %H:%M'\n",
    "            dataagora = datetime.now().strftime(dataehora)\n",
    "\n",
    "            self.query_one(f'#st_segundo', Static).update(\n",
    "                f'\\n\\n\\nData e hora: {dataagora}\\nEstou te observando...\\n\\n\\n\\n')\n",
    "\n",
    "        self.query_one('#input', Input).value = ''\n",
    "        self.query_one('#input', Input).focus()\n",
    "\n",
    "\n",
    "if __name__ == '__main__':\n",
    "    app = Dashboard()\n",
    "    app.run()"
   ]
  },
  {
   "cell_type": "markdown",
   "id": "2a10cf19",
   "metadata": {},
   "source": [
    "\n",
    "2. **Sistema de Notificações com Observer/Observable**\n",
    "   - Implemente uma aplicação onde vários widgets Static podem ser \"notificados\" por eventos disparados por botões ou outros widgets. Use o padrão Observer/Observable para que, ao pressionar um botão, todos os widgets observadores exibam uma mensagem de notificação. Estilize as notificações com CSS e utilize seletores para aplicar estilos diferentes conforme o tipo de notificação."
   ]
  },
  {
   "cell_type": "markdown",
   "id": "48b2e01a",
   "metadata": {},
   "source": []
  }
 ],
 "metadata": {
  "kernelspec": {
   "display_name": ".venv",
   "language": "python",
   "name": "python3"
  },
  "language_info": {
   "name": "python",
   "version": "3.13.2"
  }
 },
 "nbformat": 4,
 "nbformat_minor": 5
}
